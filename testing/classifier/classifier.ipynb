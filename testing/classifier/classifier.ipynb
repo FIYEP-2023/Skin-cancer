{
 "cells": [
  {
   "cell_type": "code",
   "execution_count": 1,
   "metadata": {},
   "outputs": [],
   "source": [
    "import os\n",
    "import matplotlib.pyplot as plt\n",
    "from skimage.color import rgb2gray\n",
    "import numpy as np\n",
    "from ftplib import FTP\n",
    "from io import BytesIO\n",
    "from PIL import Image"
   ]
  },
  {
   "cell_type": "code",
   "execution_count": 2,
   "metadata": {},
   "outputs": [
    {
     "ename": "error_perm",
     "evalue": "530 Non-anonymous sessions must use encryption.",
     "output_type": "error",
     "traceback": [
      "\u001b[1;31m---------------------------------------------------------------------------\u001b[0m",
      "\u001b[1;31merror_perm\u001b[0m                                Traceback (most recent call last)",
      "Cell \u001b[1;32mIn[2], line 26\u001b[0m\n\u001b[0;32m     22\u001b[0m         img \u001b[39m=\u001b[39m Image\u001b[39m.\u001b[39mopen(r)\n\u001b[0;32m     23\u001b[0m         img\u001b[39m.\u001b[39mshow()\n\u001b[1;32m---> 26\u001b[0m I \u001b[39m=\u001b[39m Imaging()\n\u001b[0;32m     27\u001b[0m \u001b[39mprint\u001b[39m(I)\n",
      "Cell \u001b[1;32mIn[2], line 4\u001b[0m, in \u001b[0;36mImaging.__init__\u001b[1;34m(self)\u001b[0m\n\u001b[0;32m      2\u001b[0m \u001b[39mdef\u001b[39;00m \u001b[39m__init__\u001b[39m(\u001b[39mself\u001b[39m):\n\u001b[0;32m      3\u001b[0m     \u001b[39mself\u001b[39m\u001b[39m.\u001b[39mftp \u001b[39m=\u001b[39m FTP(\u001b[39m\"\u001b[39m\u001b[39mbovpn.ddns.net\u001b[39m\u001b[39m\"\u001b[39m)\n\u001b[1;32m----> 4\u001b[0m     \u001b[39mself\u001b[39;49m\u001b[39m.\u001b[39;49mftp\u001b[39m.\u001b[39;49mlogin(\u001b[39m\"\u001b[39;49m\u001b[39mBowers\u001b[39;49m\u001b[39m\"\u001b[39;49m, \u001b[39m\"\u001b[39;49m\u001b[39ma&Rkdk5zELM!\u001b[39;49m\u001b[39m\"\u001b[39;49m)\n\u001b[0;32m      5\u001b[0m     \u001b[39mprint\u001b[39m(\u001b[39mself\u001b[39m\u001b[39m.\u001b[39mftp\u001b[39m.\u001b[39mdir())\n\u001b[0;32m      6\u001b[0m     \u001b[39mself\u001b[39m\u001b[39m.\u001b[39mftp\u001b[39m.\u001b[39mcwd(\u001b[39m\"\u001b[39m\u001b[39mjpeg\u001b[39m\u001b[39m\"\u001b[39m)\n",
      "File \u001b[1;32mc:\\Users\\thore\\anaconda3\\envs\\FIYEP\\lib\\ftplib.py:412\u001b[0m, in \u001b[0;36mFTP.login\u001b[1;34m(self, user, passwd, acct)\u001b[0m\n\u001b[0;32m    403\u001b[0m \u001b[39mif\u001b[39;00m user \u001b[39m==\u001b[39m \u001b[39m'\u001b[39m\u001b[39manonymous\u001b[39m\u001b[39m'\u001b[39m \u001b[39mand\u001b[39;00m passwd \u001b[39min\u001b[39;00m {\u001b[39m'\u001b[39m\u001b[39m'\u001b[39m, \u001b[39m'\u001b[39m\u001b[39m-\u001b[39m\u001b[39m'\u001b[39m}:\n\u001b[0;32m    404\u001b[0m     \u001b[39m# If there is no anonymous ftp password specified\u001b[39;00m\n\u001b[0;32m    405\u001b[0m     \u001b[39m# then we'll just use anonymous@\u001b[39;00m\n\u001b[1;32m   (...)\u001b[0m\n\u001b[0;32m    409\u001b[0m     \u001b[39m# - We don't want to let ftp sites to discriminate by the user,\u001b[39;00m\n\u001b[0;32m    410\u001b[0m     \u001b[39m#   host or country.\u001b[39;00m\n\u001b[0;32m    411\u001b[0m     passwd \u001b[39m=\u001b[39m passwd \u001b[39m+\u001b[39m \u001b[39m'\u001b[39m\u001b[39manonymous@\u001b[39m\u001b[39m'\u001b[39m\n\u001b[1;32m--> 412\u001b[0m resp \u001b[39m=\u001b[39m \u001b[39mself\u001b[39;49m\u001b[39m.\u001b[39;49msendcmd(\u001b[39m'\u001b[39;49m\u001b[39mUSER \u001b[39;49m\u001b[39m'\u001b[39;49m \u001b[39m+\u001b[39;49m user)\n\u001b[0;32m    413\u001b[0m \u001b[39mif\u001b[39;00m resp[\u001b[39m0\u001b[39m] \u001b[39m==\u001b[39m \u001b[39m'\u001b[39m\u001b[39m3\u001b[39m\u001b[39m'\u001b[39m:\n\u001b[0;32m    414\u001b[0m     resp \u001b[39m=\u001b[39m \u001b[39mself\u001b[39m\u001b[39m.\u001b[39msendcmd(\u001b[39m'\u001b[39m\u001b[39mPASS \u001b[39m\u001b[39m'\u001b[39m \u001b[39m+\u001b[39m passwd)\n",
      "File \u001b[1;32mc:\\Users\\thore\\anaconda3\\envs\\FIYEP\\lib\\ftplib.py:281\u001b[0m, in \u001b[0;36mFTP.sendcmd\u001b[1;34m(self, cmd)\u001b[0m\n\u001b[0;32m    279\u001b[0m \u001b[39m\u001b[39m\u001b[39m'''Send a command and return the response.'''\u001b[39;00m\n\u001b[0;32m    280\u001b[0m \u001b[39mself\u001b[39m\u001b[39m.\u001b[39mputcmd(cmd)\n\u001b[1;32m--> 281\u001b[0m \u001b[39mreturn\u001b[39;00m \u001b[39mself\u001b[39;49m\u001b[39m.\u001b[39;49mgetresp()\n",
      "File \u001b[1;32mc:\\Users\\thore\\anaconda3\\envs\\FIYEP\\lib\\ftplib.py:254\u001b[0m, in \u001b[0;36mFTP.getresp\u001b[1;34m(self)\u001b[0m\n\u001b[0;32m    252\u001b[0m     \u001b[39mraise\u001b[39;00m error_temp(resp)\n\u001b[0;32m    253\u001b[0m \u001b[39mif\u001b[39;00m c \u001b[39m==\u001b[39m \u001b[39m'\u001b[39m\u001b[39m5\u001b[39m\u001b[39m'\u001b[39m:\n\u001b[1;32m--> 254\u001b[0m     \u001b[39mraise\u001b[39;00m error_perm(resp)\n\u001b[0;32m    255\u001b[0m \u001b[39mraise\u001b[39;00m error_proto(resp)\n",
      "\u001b[1;31merror_perm\u001b[0m: 530 Non-anonymous sessions must use encryption."
     ]
    }
   ],
   "source": [
    "class Imaging:\n",
    "    def __init__(self):\n",
    "        self.ftp = FTP(\"bovpn.ddns.net\")\n",
    "        self.ftp.login(\"Bowers\", \"a&Rkdk5zELM!\")\n",
    "        print(self.ftp.dir())\n",
    "        self.ftp.cwd(\"jpeg\")\n",
    "        self.ftp.cwd(\"test\")\n",
    "        self.read_img(\"ISIC_0052060.jpg\")\n",
    "        self.show_files()\n",
    "\n",
    "    \n",
    "    def show_files(self):\n",
    "        print(self.ftp.dir())\n",
    "    \n",
    "    def end(self):\n",
    "        self.ftp.quit()\n",
    "\n",
    "    def read_img(self,img_name):\n",
    "        r = BytesIO()\n",
    "        self.ftp.retrbinary(f'RETR {img_name}', r.write)\n",
    "        # img = mpimg.imread(r)\n",
    "        img = Image.open(r)\n",
    "        img.show()\n",
    "\n",
    "\n",
    "I = Imaging()\n",
    "print(I)"
   ]
  },
  {
   "cell_type": "code",
   "execution_count": 5,
   "metadata": {},
   "outputs": [
    {
     "ename": "FileNotFoundError",
     "evalue": "[Errno 2] No such file or directory: 'isic'",
     "output_type": "error",
     "traceback": [
      "\u001b[0;31m---------------------------------------------------------------------------\u001b[0m",
      "\u001b[0;31mFileNotFoundError\u001b[0m                         Traceback (most recent call last)",
      "Cell \u001b[0;32mIn[5], line 1\u001b[0m\n\u001b[0;32m----> 1\u001b[0m files \u001b[39m=\u001b[39m os\u001b[39m.\u001b[39;49mlistdir(\u001b[39m'\u001b[39;49m\u001b[39misic\u001b[39;49m\u001b[39m'\u001b[39;49m)\n\u001b[1;32m      3\u001b[0m \u001b[39mdef\u001b[39;00m \u001b[39mprepare_im\u001b[39m(im_id):\n\u001b[1;32m      4\u001b[0m     path \u001b[39m=\u001b[39m \u001b[39m'\u001b[39m\u001b[39misic/\u001b[39m\u001b[39m'\u001b[39m \u001b[39m+\u001b[39m im_id \u001b[39m+\u001b[39m \u001b[39m'\u001b[39m\u001b[39m.jpg\u001b[39m\u001b[39m'\u001b[39m\n",
      "\u001b[0;31mFileNotFoundError\u001b[0m: [Errno 2] No such file or directory: 'isic'"
     ]
    }
   ],
   "source": [
    "files = os.listdir('isic')\n",
    "\n",
    "def prepare_im(im_id):\n",
    "    path = 'isic/' + im_id + '.jpg'\n",
    "\n",
    "    im = plt.imread(path)\n",
    "    gt = plt.imread('isic/' + im_id + '_segmentation.png')\n",
    "\n",
    "    # Transform image range to [0, 1] if it is not already\n",
    "    if im.max() > 1:\n",
    "        im = im / 255\n",
    "\n",
    "    return im, gt\n",
    "\n",
    "im, gt = prepare_im(files[0])"
   ]
  },
  {
   "attachments": {},
   "cell_type": "markdown",
   "metadata": {},
   "source": [
    "Normalised intensity"
   ]
  },
  {
   "cell_type": "code",
   "execution_count": null,
   "metadata": {},
   "outputs": [],
   "source": [
    "def get_normalised_intensity(im: np.ndarray) -> np.ndarray:\n",
    "    # Intensity of a pixel is its grayscale value\n",
    "    im_gray = rgb2gray(im)\n",
    "\n",
    "    # Calculate standard deviation\n",
    "\n",
    "    # Calculate mean\n",
    "\n",
    "    # Normalise image\n",
    "    # \\sqrt{s^2}=\\sqrt{\\frac{1}{n-1}\\sum_{i=0}^n(x_i-\\bar{x})^2}\n",
    "    \n",
    "    return #asdf"
   ]
  }
 ],
 "metadata": {
  "kernelspec": {
   "display_name": "FIYEP",
   "language": "python",
   "name": "python3"
  },
  "language_info": {
   "codemirror_mode": {
    "name": "ipython",
    "version": 3
   },
   "file_extension": ".py",
   "mimetype": "text/x-python",
   "name": "python",
   "nbconvert_exporter": "python",
   "pygments_lexer": "ipython3",
   "version": "3.9.16"
  },
  "orig_nbformat": 4
 },
 "nbformat": 4,
 "nbformat_minor": 2
}
