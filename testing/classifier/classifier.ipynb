{
 "cells": [
  {
   "cell_type": "code",
   "execution_count": 6,
   "metadata": {},
   "outputs": [],
   "source": [
    "import os\n",
    "import matplotlib.pyplot as plt\n",
    "from skimage.color import rgb2gray\n",
    "import numpy as np"
   ]
  },
  {
   "cell_type": "code",
   "execution_count": 5,
   "metadata": {},
   "outputs": [
    {
     "ename": "FileNotFoundError",
     "evalue": "[Errno 2] No such file or directory: 'isic'",
     "output_type": "error",
     "traceback": [
      "\u001b[0;31m---------------------------------------------------------------------------\u001b[0m",
      "\u001b[0;31mFileNotFoundError\u001b[0m                         Traceback (most recent call last)",
      "Cell \u001b[0;32mIn[5], line 1\u001b[0m\n\u001b[0;32m----> 1\u001b[0m files \u001b[39m=\u001b[39m os\u001b[39m.\u001b[39;49mlistdir(\u001b[39m'\u001b[39;49m\u001b[39misic\u001b[39;49m\u001b[39m'\u001b[39;49m)\n\u001b[1;32m      3\u001b[0m \u001b[39mdef\u001b[39;00m \u001b[39mprepare_im\u001b[39m(im_id):\n\u001b[1;32m      4\u001b[0m     path \u001b[39m=\u001b[39m \u001b[39m'\u001b[39m\u001b[39misic/\u001b[39m\u001b[39m'\u001b[39m \u001b[39m+\u001b[39m im_id \u001b[39m+\u001b[39m \u001b[39m'\u001b[39m\u001b[39m.jpg\u001b[39m\u001b[39m'\u001b[39m\n",
      "\u001b[0;31mFileNotFoundError\u001b[0m: [Errno 2] No such file or directory: 'isic'"
     ]
    }
   ],
   "source": [
    "files = os.listdir('isic')\n",
    "\n",
    "def prepare_im(im_id):\n",
    "    path = 'isic/' + im_id + '.jpg'\n",
    "\n",
    "    im = plt.imread(path)\n",
    "    gt = plt.imread('isic/' + im_id + '_segmentation.png')\n",
    "\n",
    "    # Transform image range to [0, 1] if it is not already\n",
    "    if im.max() > 1:\n",
    "        im = im / 255\n",
    "\n",
    "    return im, gt\n",
    "\n",
    "im, gt = prepare_im(files[0])"
   ]
  },
  {
   "attachments": {},
   "cell_type": "markdown",
   "metadata": {},
   "source": [
    "Normalised intensity"
   ]
  },
  {
   "cell_type": "code",
   "execution_count": null,
   "metadata": {},
   "outputs": [],
   "source": [
    "def get_normalised_intensity(im: np.ndarray) -> np.ndarray:\n",
    "    # Intensity of a pixel is its grayscale value\n",
    "    im_gray = rgb2gray(im)\n",
    "\n",
    "    # Calculate standard deviation\n",
    "\n",
    "    # Calculate mean\n",
    "\n",
    "    # Normalise image\n",
    "    # \\sqrt{s^2}=\\sqrt{\\frac{1}{n-1}\\sum_{i=0}^n(x_i-\\bar{x})^2}\n",
    "    \n",
    "    return #asdf"
   ]
  }
 ],
 "metadata": {
  "kernelspec": {
   "display_name": "FIYEP",
   "language": "python",
   "name": "python3"
  },
  "language_info": {
   "codemirror_mode": {
    "name": "ipython",
    "version": 3
   },
   "file_extension": ".py",
   "mimetype": "text/x-python",
   "name": "python",
   "nbconvert_exporter": "python",
   "pygments_lexer": "ipython3",
   "version": "3.9.16"
  },
  "orig_nbformat": 4
 },
 "nbformat": 4,
 "nbformat_minor": 2
}
