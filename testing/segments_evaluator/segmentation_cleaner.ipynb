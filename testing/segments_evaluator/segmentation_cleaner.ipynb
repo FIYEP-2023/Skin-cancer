{
 "cells": [
  {
   "attachments": {},
   "cell_type": "markdown",
   "metadata": {},
   "source": [
    "Goes through the segmented images and removes the ones that haven't been segmented yet.  \n",
    "Also goes through the non segmented images and removes the ones that have been masked.  "
   ]
  },
  {
   "cell_type": "code",
   "execution_count": 1,
   "metadata": {},
   "outputs": [],
   "source": [
    "import os\n",
    "\n",
    "segmented =     '../../data/segmented/'\n",
    "non_segmented = '../../data/not_segmented/'"
   ]
  },
  {
   "cell_type": "code",
   "execution_count": 2,
   "metadata": {},
   "outputs": [],
   "source": [
    "def remove_non_masked():\n",
    "    \"\"\"\n",
    "    Remove images that haven't been masked from the masked folder\n",
    "    \"\"\"\n",
    "    for file in os.listdir(segmented):\n",
    "        # Ignore if the file contains \"mask\"\n",
    "        if \"mask\" in file:\n",
    "            continue\n",
    "        # If the file does not contain \"mask\", check if the corresponding mask exists\n",
    "        if not os.path.isfile(segmented + file[:-4] + \"_mask.png\"):\n",
    "            # try to move it to the non_segmented folder\n",
    "            try:\n",
    "                os.rename(segmented + file, non_segmented + file)\n",
    "            except:\n",
    "                # Delete it\n",
    "                os.remove(segmented + file)"
   ]
  },
  {
   "cell_type": "code",
   "execution_count": 5,
   "metadata": {},
   "outputs": [],
   "source": [
    "def remove_masked():\n",
    "    \"\"\"\n",
    "    Remove images that have been masked from the non_masked folder\n",
    "    \"\"\"\n",
    "    for file in os.listdir(segmented):\n",
    "        # Ignore if the file does not contain \"mask\"\n",
    "        if not \"mask\" in file:\n",
    "            continue\n",
    "\n",
    "        filename = file[:-9] + \".png\"\n",
    "        if not os.path.isfile(segmented + filename):\n",
    "            # Try to find a corresponding image in the non_segmented folder and move it to the segmented folder\n",
    "            try:\n",
    "                os.rename(non_segmented + filename, segmented + filename)\n",
    "            except:\n",
    "                pass\n",
    "            continue\n",
    "        # The file has a mask, so remove it from the non_segmented folder\n",
    "        try:\n",
    "            os.remove(non_segmented + filename)\n",
    "        except Exception as e:\n",
    "            # print(e)\n",
    "            print(\"Failed to remove file: \" + non_segmented + filename)\n",
    "            pass"
   ]
  },
  {
   "cell_type": "code",
   "execution_count": 6,
   "metadata": {},
   "outputs": [],
   "source": [
    "# remove_masked()\n",
    "remove_non_masked()"
   ]
  }
 ],
 "metadata": {
  "kernelspec": {
   "display_name": "Python 3",
   "language": "python",
   "name": "python3"
  },
  "language_info": {
   "codemirror_mode": {
    "name": "ipython",
    "version": 3
   },
   "file_extension": ".py",
   "mimetype": "text/x-python",
   "name": "python",
   "nbconvert_exporter": "python",
   "pygments_lexer": "ipython3",
   "version": "3.9.16"
  },
  "orig_nbformat": 4
 },
 "nbformat": 4,
 "nbformat_minor": 2
}
