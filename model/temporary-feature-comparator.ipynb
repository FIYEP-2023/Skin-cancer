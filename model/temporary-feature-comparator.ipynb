{
 "cells": [
  {
   "cell_type": "code",
   "execution_count": 6,
   "metadata": {},
   "outputs": [],
   "source": [
    "import pickle\n",
    "import numpy as np\n",
    "import os"
   ]
  },
  {
   "cell_type": "code",
   "execution_count": 7,
   "metadata": {},
   "outputs": [],
   "source": [
    "with open('../data/features/img_names.pkl', 'rb') as f:\n",
    "    img_names = pickle.load(f)\n",
    "with open('../data/features/X.pkl', 'rb') as f:\n",
    "    X = np.array(pickle.load(f))\n",
    "with open('../data/features/y.pkl', 'rb') as f:\n",
    "    y = np.array(pickle.load(f))\n",
    "with open('../data/training/training_splits.pkl', 'rb') as f:\n",
    "    training_splits = pickle.load(f)\n",
    "with open('../data/training/validation_splits.pkl', 'rb') as f:\n",
    "    validation_splits = pickle.load(f)\n",
    "with open('../data/training/test_data.pkl', 'rb') as f:\n",
    "    test_data = pickle.load(f)"
   ]
  },
  {
   "cell_type": "code",
   "execution_count": 8,
   "metadata": {},
   "outputs": [],
   "source": [
    "def img_name_to_features(imgs: list[list[str]]):\n",
    "    indices = [img_names.index(img) for img in imgs]\n",
    "    return [X[indices], y[indices]]"
   ]
  },
  {
   "cell_type": "code",
   "execution_count": 9,
   "metadata": {},
   "outputs": [],
   "source": [
    "training_feat_splits = [img_name_to_features(split) for split in training_splits]\n",
    "validation_feat_splits = [img_name_to_features(split) for split in validation_splits]\n",
    "test_feat = img_name_to_features(test_data)"
   ]
  },
  {
   "cell_type": "code",
   "execution_count": 14,
   "metadata": {},
   "outputs": [],
   "source": [
    "# Normalise training data\n",
    "for i in range(len(training_feat_splits)):\n",
    "    # Normalise training data\n",
    "    train_means = np.mean(training_feat_splits[i][0], axis=0)\n",
    "    train_stds = np.std(training_feat_splits[i][0], axis=0)\n",
    "    training_feat_splits[i][0] = (training_feat_splits[i][0] - train_means) / train_stds\n",
    "    # Normalise validation data\n",
    "    val_means = np.mean(validation_feat_splits[i][0], axis=0)\n",
    "    val_stds = np.std(validation_feat_splits[i][0], axis=0)\n",
    "    validation_feat_splits[i][0] = (validation_feat_splits[i][0] - val_means) / val_stds\n",
    "\n",
    "# Normalise test data\n",
    "mean = np.mean(test_feat[0], axis=0)\n",
    "std = np.std(test_feat[0], axis=0)\n",
    "test_feat[0] = (test_feat[0] - mean) / std"
   ]
  },
  {
   "cell_type": "code",
   "execution_count": 15,
   "metadata": {},
   "outputs": [],
   "source": [
    "# Extract only the first 8 features\n",
    "training_feat_splits_less_features = [(X[:, :8], y) for X, y in training_feat_splits]\n",
    "validation_feat_splits_less_features = [(X[:, :8], y) for X, y in validation_feat_splits]\n",
    "test_feat_less_features = (test_feat[0][:, :8], test_feat[1])"
   ]
  },
  {
   "cell_type": "code",
   "execution_count": null,
   "metadata": {},
   "outputs": [],
   "source": [
    "from sklearn.feature_selection import VarianceThreshold\n",
    "# Remove features with low variance\n",
    "selector = VarianceThreshold(threshold=0.1)\n",
    "training_feat_splits_less_features_pruned = [(selector.fit_transform(X), y) for X, y in training_feat_splits_less_features]\n",
    "validation_feat_splits_less_features_pruned = [(selector.transform(X), y) for X, y in validation_feat_splits_less_features]\n",
    "test_feat_less_features_pruned = (selector.transform(test_feat_less_features[0]), test_feat_less_features[1])\n",
    "\n",
    "# Print difference\n",
    "print(f\"Original shape: {training_feat_splits_less_features[0][0].shape}\")\n",
    "print(f\"Pruned shape: {training_feat_splits_less_features_pruned[0][0].shape}\")"
   ]
  },
  {
   "cell_type": "code",
   "execution_count": 16,
   "metadata": {},
   "outputs": [],
   "source": [
    "from sklearn.neighbors import KNeighborsClassifier\n",
    "\n",
    "def f1(y_true, y_pred):\n",
    "    # Calculate F1 score\n",
    "    tp = np.sum(y_true * y_pred)\n",
    "    fp = np.sum((1 - y_true) * y_pred)\n",
    "    fn = np.sum(y_true * (1 - y_pred))\n",
    "    return 2 * tp / (2 * tp + fp + fn)\n",
    "\n",
    "def train_and_evaluate_model(X_train, y_train, X_val, y_val, k):\n",
    "    model = KNeighborsClassifier(n_neighbors=k)\n",
    "    model.fit(X_train, y_train)\n",
    "    # Get F1 score on validation set\n",
    "    y_pred = model.predict(X_val)\n",
    "    return f1(y_val, y_pred)"
   ]
  },
  {
   "cell_type": "code",
   "execution_count": 17,
   "metadata": {},
   "outputs": [
    {
     "name": "stdout",
     "output_type": "stream",
     "text": [
      "Confusion matrix:\n",
      "[[181.   47.4]\n",
      " [ 33.4 136.6]]\n"
     ]
    }
   ],
   "source": [
    "# Train and evaluate model on validation set\n",
    "k = 15\n",
    "confusion_matrices = []\n",
    "for i in range(len(training_feat_splits)):\n",
    "    X_train, y_train = training_feat_splits[i]\n",
    "    X_val, y_val = validation_feat_splits[i]\n",
    "    model = KNeighborsClassifier(n_neighbors=k)\n",
    "    model.fit(X_train, y_train)\n",
    "\n",
    "    y_pred = model.predict(X_val)\n",
    "    TP = np.sum(y_val * y_pred)\n",
    "    FP = np.sum((1 - y_val) * y_pred)\n",
    "    FN = np.sum(y_val * (1 - y_pred))\n",
    "    TN = np.sum((1 - y_val) * (1 - y_pred))\n",
    "    confusion_matrices.append(np.array([[TP, FP], [FN, TN]]))\n",
    "\n",
    "# Average confusion matrix\n",
    "confusion_matrix = np.mean(confusion_matrices, axis=0)\n",
    "TP, FP, FN, TN = confusion_matrix.flatten()\n",
    "# print confusion matrix\n",
    "print(f'Confusion matrix:\\n{confusion_matrix}')"
   ]
  },
  {
   "cell_type": "code",
   "execution_count": 18,
   "metadata": {},
   "outputs": [
    {
     "name": "stdout",
     "output_type": "stream",
     "text": [
      "Confusion matrix:\n",
      "[[173.6  46.6]\n",
      " [ 40.8 137.4]]\n"
     ]
    }
   ],
   "source": [
    "# Train and evaluate model on validation set\n",
    "k = 15\n",
    "confusion_matrices = []\n",
    "for i in range(len(training_feat_splits_less_features)):\n",
    "    X_train, y_train = training_feat_splits_less_features[i]\n",
    "    X_val, y_val = validation_feat_splits_less_features[i]\n",
    "    model = KNeighborsClassifier(n_neighbors=k)\n",
    "    model.fit(X_train, y_train)\n",
    "\n",
    "    y_pred = model.predict(X_val)\n",
    "    TP = np.sum(y_val * y_pred)\n",
    "    FP = np.sum((1 - y_val) * y_pred)\n",
    "    FN = np.sum(y_val * (1 - y_pred))\n",
    "    TN = np.sum((1 - y_val) * (1 - y_pred))\n",
    "    confusion_matrices.append(np.array([[TP, FP], [FN, TN]]))\n",
    "\n",
    "# Average confusion matrix\n",
    "confusion_matrix = np.mean(confusion_matrices, axis=0)\n",
    "TP, FP, FN, TN = confusion_matrix.flatten()\n",
    "print(f'Confusion matrix:\\n{confusion_matrix}')"
   ]
  }
 ],
 "metadata": {
  "kernelspec": {
   "display_name": "FIYEP",
   "language": "python",
   "name": "python3"
  },
  "language_info": {
   "codemirror_mode": {
    "name": "ipython",
    "version": 3
   },
   "file_extension": ".py",
   "mimetype": "text/x-python",
   "name": "python",
   "nbconvert_exporter": "python",
   "pygments_lexer": "ipython3",
   "version": "3.9.16"
  },
  "orig_nbformat": 4
 },
 "nbformat": 4,
 "nbformat_minor": 2
}
