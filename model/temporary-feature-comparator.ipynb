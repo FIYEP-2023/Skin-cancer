{
 "cells": [
  {
   "cell_type": "code",
   "execution_count": 85,
   "metadata": {},
   "outputs": [],
   "source": [
    "import pickle\n",
    "import numpy as np\n",
    "import os"
   ]
  },
  {
   "cell_type": "code",
   "execution_count": 86,
   "metadata": {},
   "outputs": [],
   "source": [
    "with open('../data/features/img_names.pkl', 'rb') as f:\n",
    "    img_names = pickle.load(f)\n",
    "with open('../data/features/X.pkl', 'rb') as f:\n",
    "    X = np.array(pickle.load(f))\n",
    "with open('../data/features/y.pkl', 'rb') as f:\n",
    "    y = np.array(pickle.load(f))\n",
    "with open('../data/training/training_splits.pkl', 'rb') as f:\n",
    "    training_splits = pickle.load(f)\n",
    "with open('../data/training/validation_splits.pkl', 'rb') as f:\n",
    "    validation_splits = pickle.load(f)\n",
    "with open('../data/training/test_data.pkl', 'rb') as f:\n",
    "    test_data = pickle.load(f)"
   ]
  },
  {
   "cell_type": "code",
   "execution_count": 87,
   "metadata": {},
   "outputs": [],
   "source": [
    "def img_name_to_features(imgs: list[list[str]]):\n",
    "    indices = [img_names.index(img) for img in imgs]\n",
    "    return [X[indices], y[indices]]"
   ]
  },
  {
   "cell_type": "code",
   "execution_count": 88,
   "metadata": {},
   "outputs": [],
   "source": [
    "training_feat_splits = [img_name_to_features(split) for split in training_splits]\n",
    "validation_feat_splits = [img_name_to_features(split) for split in validation_splits]\n",
    "test_feat = img_name_to_features(test_data)"
   ]
  },
  {
   "cell_type": "code",
   "execution_count": 89,
   "metadata": {},
   "outputs": [],
   "source": [
    "# Normalise training data\n",
    "for i in range(len(training_feat_splits)):\n",
    "    # Normalise training data\n",
    "    train_means = np.mean(training_feat_splits[i][0], axis=0)\n",
    "    train_stds = np.std(training_feat_splits[i][0], axis=0)\n",
    "    training_feat_splits[i][0] = (training_feat_splits[i][0] - train_means) / train_stds\n",
    "    # Normalise validation data\n",
    "    val_means = np.mean(validation_feat_splits[i][0], axis=0)\n",
    "    val_stds = np.std(validation_feat_splits[i][0], axis=0)\n",
    "    validation_feat_splits[i][0] = (validation_feat_splits[i][0] - val_means) / val_stds\n",
    "\n",
    "# Normalise test data\n",
    "mean = np.mean(test_feat[0], axis=0)\n",
    "std = np.std(test_feat[0], axis=0)\n",
    "test_feat[0] = (test_feat[0] - mean) / std"
   ]
  },
  {
   "cell_type": "code",
   "execution_count": 90,
   "metadata": {},
   "outputs": [],
   "source": [
    "# Extract only the first 8 features\n",
    "# training_feat_splits_less_features = [(X[:, :8], y) for X, y in training_feat_splits]\n",
    "# validation_feat_splits_less_features = [(X[:, :8], y) for X, y in validation_feat_splits]\n",
    "# test_feat_less_features = (test_feat[0][:, :8], test_feat[1])\n",
    "training_feat_splits_less_features = training_feat_splits\n",
    "validation_feat_splits_less_features = validation_feat_splits\n",
    "test_feat_less_features = test_feat"
   ]
  },
  {
   "cell_type": "code",
   "execution_count": 91,
   "metadata": {},
   "outputs": [
    {
     "name": "stdout",
     "output_type": "stream",
     "text": [
      "Original shape: (1594, 656)\n",
      "Pruned shape: (1594, 40)\n"
     ]
    }
   ],
   "source": [
    "from sklearn.feature_selection import SelectKBest, f_classif\n",
    "\n",
    "# Remove features with low variance\n",
    "training_feat_splits_less_features_pruned = [(SelectKBest(f_classif, k=40).fit_transform(X, y), y) for X, y in training_feat_splits_less_features]\n",
    "validation_feat_splits_less_features_pruned = [(SelectKBest(f_classif, k=40).fit_transform(X, y), y) for X, y in validation_feat_splits_less_features]\n",
    "test_feat_less_features_pruned = (SelectKBest(f_classif, k=40).fit_transform(test_feat[0], test_feat_less_features[1]), test_feat_less_features[1])\n",
    "\n",
    "# Print difference\n",
    "print(f\"Original shape: {training_feat_splits[0][0].shape}\")\n",
    "print(f\"Pruned shape: {training_feat_splits_less_features_pruned[0][0].shape}\")"
   ]
  },
  {
   "cell_type": "code",
   "execution_count": 104,
   "metadata": {},
   "outputs": [
    {
     "name": "stdout",
     "output_type": "stream",
     "text": [
      "Features sorted by score:\n",
      "['general' 'general' 'general' 'general' 'general' 'general' 'general'\n",
      " 'general' 'general' 'general' 'general' 'general' 'general' 'general'\n",
      " 'general' 'color4' 'general' 'general' 'general' 'general' 'general'\n",
      " 'general' 'general' 'general' 'general' 'general' 'general' 'general'\n",
      " 'general' 'general' 'general' 'general' 'general' 'general' 'general'\n",
      " 'general' 'general' 'general' 'general' 'general' 'general' 'general'\n",
      " 'general' 'general' 'general' 'general' 'general' 'general' 'general'\n",
      " 'general' 'general' 'general' 'general' 'general' 'general' 'general'\n",
      " 'general' 'general' 'general' 'general' 'general' 'general' 'general'\n",
      " 'general' 'general' 'general' 'general' 'general' 'general' 'general'\n",
      " 'general' 'general' 'general' 'general' 'general' 'general' 'general'\n",
      " 'general' 'general' 'general' 'general' 'general' 'general' 'general'\n",
      " 'general' 'general' 'general' 'general' 'general' 'general' 'general'\n",
      " 'general' 'general' 'general' 'general' 'general' 'general' 'general'\n",
      " 'general' 'general' 'general' 'general' 'general' 'general' 'general'\n",
      " 'general' 'general' 'general' 'general' 'general' 'general' 'general'\n",
      " 'general' 'general' 'general' 'general' 'general' 'general' 'general'\n",
      " 'general' 'general' 'general' 'general' 'general' 'general' 'general'\n",
      " 'general' 'general' 'general' 'general' 'general' 'general' 'general'\n",
      " 'general' 'general' 'general' 'general' 'general' 'general' 'general'\n",
      " 'general' 'general' 'color1' 'general' 'general' 'general' 'general'\n",
      " 'general' 'general' 'general' 'general' 'general' 'general' 'general'\n",
      " 'general' 'general' 'general' 'general' 'general' 'color2' 'general'\n",
      " 'general' 'general' 'general' 'general' 'general' 'general' 'general'\n",
      " 'general' 'general' 'general' 'general' 'general' 'general' 'general'\n",
      " 'general' 'general' 'general' 'general' 'general' 'general' 'general'\n",
      " 'general' 'general' 'general' 'general' 'general' 'general' 'general'\n",
      " 'general' 'general' 'general' 'general' 'general' 'general' 'general'\n",
      " 'general' 'general' 'general' 'general' 'general' 'general' 'general'\n",
      " 'general' 'general' 'general' 'general' 'general' 'general' 'general'\n",
      " 'general' 'general' 'general' 'general' 'general' 'general' 'general'\n",
      " 'general' 'general' 'general' 'general' 'general' 'general' 'general'\n",
      " 'general' 'general' 'general' 'general' 'general' 'general' 'general'\n",
      " 'general' 'general' 'general' 'general' 'general' 'general' 'general'\n",
      " 'general' 'general' 'general' 'general' 'general' 'general' 'general'\n",
      " 'general' 'general' 'general' 'general' 'general' 'general' 'general'\n",
      " 'general' 'general' 'general' 'general' 'general' 'general' 'general'\n",
      " 'general' 'general' 'general' 'general' 'general' 'general' 'general'\n",
      " 'general' 'general' 'general' 'general' 'general' 'general' 'general'\n",
      " 'general' 'general' 'general' 'general' 'general' 'general' 'general'\n",
      " 'general' 'general' 'general' 'general' 'general' 'general' 'general'\n",
      " 'general' 'general' 'general' 'general' 'general' 'general' 'general'\n",
      " 'general' 'general' 'general' 'general' 'general' 'general' 'general'\n",
      " 'general' 'general' 'general' 'general' 'general' 'general' 'general'\n",
      " 'general' 'general' 'general' 'general' 'general' 'general' 'general'\n",
      " 'general' 'general' 'general' 'general' 'general' 'general' 'general'\n",
      " 'general' 'general' 'general' 'general' 'general' 'general' 'general'\n",
      " 'general' 'general' 'general' 'general' 'general' 'general' 'general'\n",
      " 'general' 'general' 'general' 'general' 'general' 'general' 'general'\n",
      " 'general' 'general' 'general' 'general' 'general' 'general' 'general'\n",
      " 'general' 'general' 'general' 'general' 'general' 'general' 'general'\n",
      " 'general' 'general' 'general' 'general' 'general' 'general' 'general'\n",
      " 'general' 'general' 'general' 'general' 'general' 'general' 'general'\n",
      " 'general' 'general' 'general' 'general' 'general' 'general' 'general'\n",
      " 'general' 'compactness' 'general' 'general' 'general' 'general' 'general'\n",
      " 'general' 'general' 'general' 'general' 'general' 'general' 'general'\n",
      " 'general' 'general' 'general' 'general' 'general' 'general' 'general'\n",
      " 'general' 'general' 'general' 'general' 'general' 'general' 'general'\n",
      " 'general' 'general' 'general' 'general' 'general' 'general' 'general'\n",
      " 'general' 'general' 'general' 'general' 'general' 'general' 'general'\n",
      " 'general' 'general' 'general' 'general' 'general' 'general' 'general'\n",
      " 'general' 'general' 'general' 'general' 'general' 'general' 'general'\n",
      " 'general' 'general' 'general' 'general' 'general' 'general' 'general'\n",
      " 'general' 'general' 'general' 'general' 'general' 'general' 'general'\n",
      " 'general' 'general' 'general' 'general' 'general' 'general' 'general'\n",
      " 'general' 'general' 'general' 'general' 'general' 'general' 'general'\n",
      " 'general' 'general' 'general' 'general' 'general' 'general' 'general'\n",
      " 'general' 'general' 'general' 'general' 'general' 'general' 'general'\n",
      " 'general' 'general' 'general' 'general' 'general' 'general' 'general'\n",
      " 'general' 'general' 'general' 'general' 'general' 'general' 'general'\n",
      " 'general' 'general' 'general' 'general' 'general' 'general' 'general'\n",
      " 'general' 'general' 'general' 'general' 'general' 'general' 'general'\n",
      " 'general' 'general' 'general' 'general' 'general' 'general' 'general'\n",
      " 'general' 'general' 'general' 'general' 'general' 'general' 'general'\n",
      " 'general' 'general' 'general' 'general' 'general' 'general' 'general'\n",
      " 'general' 'general' 'general' 'general' 'general' 'general' 'general'\n",
      " 'general' 'general' 'general' 'general' 'general' 'general' 'general'\n",
      " 'general' 'general' 'general' 'general' 'general' 'general' 'general'\n",
      " 'general' 'general' 'general' 'general' 'general' 'general' 'general'\n",
      " 'general' 'asymmetry' 'general' 'general' 'general' 'general' 'general'\n",
      " 'general' 'general' 'general' 'general' 'general' 'general' 'general'\n",
      " 'general' 'general' 'general' 'general' 'general' 'general' 'general'\n",
      " 'general' 'general' 'general' 'general' 'general' 'general' 'general'\n",
      " 'general' 'general' 'general' 'general' 'general' 'general' 'general'\n",
      " 'general' 'general' 'general' 'general' 'general' 'general' 'general'\n",
      " 'general' 'general' 'general' 'general' 'general' 'general' 'general'\n",
      " 'general' 'general' 'general' 'general' 'general' 'general' 'general'\n",
      " 'general' 'general' 'general' 'general' 'color3' 'general' 'general'\n",
      " 'general' 'general' 'general' 'general' 'general' 'general' 'general'\n",
      " 'general' 'general' 'general' 'general' 'general' 'general' 'general'\n",
      " 'general' 'general' 'general' 'general' 'general' 'general' 'general'\n",
      " 'general' 'general' 'general' 'general' 'general' 'general' 'color5'\n",
      " 'general' 'color0' 'general' 'general' 'general' 'general' 'general'\n",
      " 'general' 'general' 'general' 'general' 'general']\n",
      "asymmetry: 5.932851881800413 at position 554\n",
      "compactness: 23.099943570111485 at position 379\n",
      "color0: 0.12626815958671567 at position 645\n",
      "color1: 53.67829432017693 at position 142\n",
      "color2: 48.910271201515975 at position 159\n",
      "color3: 1.820900474281956 at position 613\n",
      "color4: 180.90801166479758 at position 15\n",
      "color5: 0.17220244379165056 at position 643\n"
     ]
    }
   ],
   "source": [
    "scores = []\n",
    "for X, y in training_feat_splits_less_features:\n",
    "    kb = SelectKBest(f_classif, k=40).fit(X, y)\n",
    "    scores.append(kb.scores_)\n",
    "scores = np.array(scores)\n",
    "scores = np.mean(scores, axis=0)\n",
    "# indices of top scorers\n",
    "ind = np.argsort(scores)[::-1]\n",
    "# Replace 0 with \"asymmetry\", 1 with \"compactness\", 2 through 7 with \"colors\" and the rest with \"general\"\n",
    "feature_names = [\"asymmetry\", \"compactness\"] + [f\"color{i}\" for i in range(6)] + [\"general\" for i in range(8, len(scores))]\n",
    "# Print all features sorted by score\n",
    "feats = []\n",
    "for i in range(len(scores)):\n",
    "    feats.append(feature_names[ind[i]])\n",
    "\n",
    "print(\"Features sorted by score:\")\n",
    "print(np.array(feats))\n",
    "# Get scores of asymmetry, compactness and the colors\n",
    "for i in range(8):\n",
    "    index = np.where(ind == i)[0][0]\n",
    "    print(f\"{feature_names[ind[index]]}: {scores[ind[index]]} at position {index}\")"
   ]
  },
  {
   "cell_type": "code",
   "execution_count": 92,
   "metadata": {},
   "outputs": [],
   "source": [
    "from sklearn.neighbors import KNeighborsClassifier\n",
    "\n",
    "def f1(y_true, y_pred):\n",
    "    # Calculate F1 score\n",
    "    tp = np.sum(y_true * y_pred)\n",
    "    fp = np.sum((1 - y_true) * y_pred)\n",
    "    fn = np.sum(y_true * (1 - y_pred))\n",
    "    return 2 * tp / (2 * tp + fp + fn)\n",
    "\n",
    "def train_and_evaluate_model(X_train, y_train, X_val, y_val, k):\n",
    "    model = KNeighborsClassifier(n_neighbors=k)\n",
    "    model.fit(X_train, y_train)\n",
    "    # Get F1 score on validation set\n",
    "    y_pred = model.predict(X_val)\n",
    "    return f1(y_val, y_pred)"
   ]
  },
  {
   "cell_type": "code",
   "execution_count": 93,
   "metadata": {},
   "outputs": [
    {
     "name": "stdout",
     "output_type": "stream",
     "text": [
      "Confusion matrix:\n",
      "[[181.   47.4]\n",
      " [ 33.4 136.6]]\n"
     ]
    }
   ],
   "source": [
    "# Train and evaluate model on validation set\n",
    "k = 15\n",
    "confusion_matrices = []\n",
    "for i in range(len(training_feat_splits)):\n",
    "    X_train, y_train = training_feat_splits[i]\n",
    "    X_val, y_val = validation_feat_splits[i]\n",
    "    model = KNeighborsClassifier(n_neighbors=k)\n",
    "    model.fit(X_train, y_train)\n",
    "\n",
    "    y_pred = model.predict(X_val)\n",
    "    TP = np.sum(y_val * y_pred)\n",
    "    FP = np.sum((1 - y_val) * y_pred)\n",
    "    FN = np.sum(y_val * (1 - y_pred))\n",
    "    TN = np.sum((1 - y_val) * (1 - y_pred))\n",
    "    confusion_matrices.append(np.array([[TP, FP], [FN, TN]]))\n",
    "\n",
    "# Average confusion matrix\n",
    "confusion_matrix = np.mean(confusion_matrices, axis=0)\n",
    "TP, FP, FN, TN = confusion_matrix.flatten()\n",
    "# print confusion matrix\n",
    "print(f'Confusion matrix:\\n{confusion_matrix}')"
   ]
  },
  {
   "cell_type": "code",
   "execution_count": 18,
   "metadata": {},
   "outputs": [
    {
     "name": "stdout",
     "output_type": "stream",
     "text": [
      "Confusion matrix:\n",
      "[[173.6  46.6]\n",
      " [ 40.8 137.4]]\n"
     ]
    }
   ],
   "source": [
    "# Train and evaluate model on validation set\n",
    "k = 15\n",
    "confusion_matrices = []\n",
    "for i in range(len(training_feat_splits_less_features)):\n",
    "    X_train, y_train = training_feat_splits_less_features[i]\n",
    "    X_val, y_val = validation_feat_splits_less_features[i]\n",
    "    model = KNeighborsClassifier(n_neighbors=k)\n",
    "    model.fit(X_train, y_train)\n",
    "\n",
    "    y_pred = model.predict(X_val)\n",
    "    TP = np.sum(y_val * y_pred)\n",
    "    FP = np.sum((1 - y_val) * y_pred)\n",
    "    FN = np.sum(y_val * (1 - y_pred))\n",
    "    TN = np.sum((1 - y_val) * (1 - y_pred))\n",
    "    confusion_matrices.append(np.array([[TP, FP], [FN, TN]]))\n",
    "\n",
    "# Average confusion matrix\n",
    "confusion_matrix = np.mean(confusion_matrices, axis=0)\n",
    "TP, FP, FN, TN = confusion_matrix.flatten()\n",
    "print(f'Confusion matrix:\\n{confusion_matrix}')"
   ]
  }
 ],
 "metadata": {
  "kernelspec": {
   "display_name": "FIYEP",
   "language": "python",
   "name": "python3"
  },
  "language_info": {
   "codemirror_mode": {
    "name": "ipython",
    "version": 3
   },
   "file_extension": ".py",
   "mimetype": "text/x-python",
   "name": "python",
   "nbconvert_exporter": "python",
   "pygments_lexer": "ipython3",
   "version": "3.9.16"
  },
  "orig_nbformat": 4
 },
 "nbformat": 4,
 "nbformat_minor": 2
}
